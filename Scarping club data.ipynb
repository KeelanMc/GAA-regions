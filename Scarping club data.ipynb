{
 "cells": [
  {
   "cell_type": "code",
   "execution_count": 9,
   "metadata": {},
   "outputs": [],
   "source": [
    "from bs4 import BeautifulSoup\n",
    "import urllib\n",
    "import pandas as pd\n",
    "import numpy as np\n",
    "import re"
   ]
  },
  {
   "cell_type": "markdown",
   "metadata": {},
   "source": [
    "### Clare as an example"
   ]
  },
  {
   "cell_type": "code",
   "execution_count": 20,
   "metadata": {},
   "outputs": [],
   "source": [
    "url = \"https://gaapitchlocator.net/clare\""
   ]
  },
  {
   "cell_type": "code",
   "execution_count": 21,
   "metadata": {},
   "outputs": [],
   "source": [
    "page = urllib.request.urlopen(url)\n",
    "soup = BeautifulSoup(page, 'html')"
   ]
  },
  {
   "cell_type": "code",
   "execution_count": 22,
   "metadata": {},
   "outputs": [],
   "source": [
    "column_names = [\"Club\", \"Latitude\",\"Longitude\"]\n",
    "locations = pd.DataFrame(columns = column_names)\n",
    "ballyea = soup.find_all('div')\n",
    "for line in ballyea:    \n",
    "    if line['class']==['site']: \n",
    "        data =line\n",
    "usefulinfo  = data.find_all('div')\n",
    "for line in usefulinfo:\n",
    "    if line['class'] ==['x-main', 'full']:\n",
    "        clubs = line\n",
    "clubs = clubs.find_all('div')\n",
    "i=0\n",
    "for line in clubs:\n",
    "    if(line['class'][0]=='lmm-geo-tags'):\n",
    "        sample = line.text\n",
    "        locations.loc[i] = [sample.split(\":\")[0],[float(j) for j in sample.split(\":\")[1].split(',')][0],[float(j) for j in sample.split(\":\")[1].split(',')][1]]\n",
    "        i +=1"
   ]
  },
  {
   "cell_type": "code",
   "execution_count": 23,
   "metadata": {},
   "outputs": [],
   "source": [
    "locations['Club'] = locations['Club'].str.replace('GAA','').str.replace('Hurling Club','').str.replace(r\"\\(.*\\)\",\"\").str.replace(\"\\\\\", '').str.replace('St','St.').str.replace('GFC','').str.strip()\n",
    "locations = locations.drop_duplicates(subset=['Club'],keep='last')"
   ]
  },
  {
   "cell_type": "code",
   "execution_count": 29,
   "metadata": {},
   "outputs": [],
   "source": [
    "url = \"https://en.wikipedia.org/wiki/Clare_Senior_Hurling_Championship\"\n",
    "page = urllib.request.urlopen(url)\n",
    "soup = BeautifulSoup(page, \"lxml\")\n",
    "headings = soup.find_all(\"h2\")\n",
    "\n",
    "for header in headings:\n",
    "    if all(x in header.get_text().lower() for x in ['list','final']):\n",
    "        table =header.find_next_sibling()\n",
    "    elif all(x in header.get_text().lower() for x in ['roll','honour']):\n",
    "        table =header.find_next_sibling()\n",
    "        \n",
    "right_table=soup.find_all('table', class_='wikitable')\n",
    "for table in right_table:\n",
    "    ths = table.find_all('th')\n",
    "    headings = [th.text.strip() for th in ths]\n",
    "    if headings == ['Year', 'Winner', 'Opponent']:\n",
    "        break\n",
    "finals = pd.DataFrame(columns = headings)\n",
    "i=0\n",
    "for row in table.findAll('tr'):\n",
    "    cells=row.findAll('td')\n",
    "    if len(cells)==3:\n",
    "        finals.loc[i] = [th.text.strip() for th in cells]\n",
    "        i +=1\n",
    "finals['Winner'] = finals['Winner'].str.extract(\"([A-Za-z'.,Á-Úá-ú -]+)\")\n",
    "finals['Winner']=finals['Winner'].str.strip()\n",
    "finals['Opponent'] = finals['Opponent'].str.extract(\"([A-Za-z'.,Á-Úá-ú -]+)\")\n",
    "finals['Opponent'] = finals['Opponent'].str.strip()\n",
    "finals['Year'] = finals['Year'].astype(str).str[0:4].astype(int)\n",
    "finals.set_index('Year',inplace=True)"
   ]
  },
  {
   "cell_type": "code",
   "execution_count": 32,
   "metadata": {},
   "outputs": [],
   "source": [
    "wikitomap = {\"Wolfe Tones\":\"Wolfe Tones na Sionna\",\"Éire Óg\":\"Eire Og\",\"Clooney-Quin\":\"Clooney Quin\"}"
   ]
  },
  {
   "cell_type": "code",
   "execution_count": 33,
   "metadata": {},
   "outputs": [],
   "source": [
    "finals =finals.replace({\"Winner\":wikitomap,\"Opponent\":wikitomap})"
   ]
  },
  {
   "cell_type": "code",
   "execution_count": 34,
   "metadata": {},
   "outputs": [],
   "source": [
    "countytitles19812020 = finals.loc[finals.index > 1980]['Winner'].value_counts()\n",
    "runnersup19812020 = finals.loc[finals.index > 1980]['Opponent'].value_counts()"
   ]
  },
  {
   "cell_type": "code",
   "execution_count": 35,
   "metadata": {},
   "outputs": [],
   "source": [
    "locations.set_index('Club',inplace=True)\n",
    "locations['Countytitles'] = countytitles19812020\n",
    "locations['Runnersup'] = runnersup19812020 "
   ]
  },
  {
   "cell_type": "code",
   "execution_count": 36,
   "metadata": {},
   "outputs": [],
   "source": [
    "right_table\n",
    "for table in right_table:\n",
    "    ths = table.find_all('th')\n",
    "    headings = [th.text.strip() for th in ths]\n",
    "    if headings == ['Club', 'Last Title']:\n",
    "        break"
   ]
  },
  {
   "cell_type": "code",
   "execution_count": 37,
   "metadata": {},
   "outputs": [],
   "source": [
    "seniorteams = pd.DataFrame(columns = headings)\n",
    "i=0\n",
    "for row in table.findAll('tr'):\n",
    "    cells=row.findAll('td')\n",
    "    if len(cells)==2:\n",
    "        seniorteams.loc[i] = [th.text.strip() for th in cells]\n",
    "        i +=1"
   ]
  },
  {
   "cell_type": "code",
   "execution_count": 38,
   "metadata": {},
   "outputs": [],
   "source": [
    "Intermediate_clubs = [\"Smith O'Briens\" ,'Corofin',\"Tubber\",\"St. Joseph's Doora-Barefield\",\n",
    "                      \"Tulla\",\"Bodyke\",\"Ruan\",\"Parteen\",\"Killanena\"]\n",
    "JuniorA_clubs = [\"Ogonnelloe\",\"Ennistymon\"]\n",
    "JuniorB_clubs = [\"The Banner\",\"Meelick\"]\n",
    "JuniorC_clubs = [\"Kilkee Bealatha\",\"Clonboney\"]"
   ]
  },
  {
   "cell_type": "code",
   "execution_count": 39,
   "metadata": {},
   "outputs": [],
   "source": [
    "seniorteams['Club'] = seniorteams['Club'].str.replace(r\"\\(.*\\)\",\"\").str.replace(r\"\\,.*\",\"\").str.strip()"
   ]
  },
  {
   "cell_type": "code",
   "execution_count": 40,
   "metadata": {},
   "outputs": [],
   "source": [
    "seniorteams = seniorteams.replace({\"Club\":wikitomap})"
   ]
  },
  {
   "cell_type": "code",
   "execution_count": 41,
   "metadata": {},
   "outputs": [],
   "source": [
    "seniorteams['Senior'] = 1"
   ]
  },
  {
   "cell_type": "code",
   "execution_count": 42,
   "metadata": {},
   "outputs": [],
   "source": [
    "seniorteams.set_index('Club',inplace=True)"
   ]
  },
  {
   "cell_type": "code",
   "execution_count": 43,
   "metadata": {},
   "outputs": [],
   "source": [
    "Intermediate_teams = pd.DataFrame(Intermediate_clubs,columns=['Club'])\n",
    "Intermediate_teams['Intermediate'] = 1 \n",
    "Intermediate_teams.set_index('Club',inplace=True)"
   ]
  },
  {
   "cell_type": "code",
   "execution_count": 44,
   "metadata": {},
   "outputs": [],
   "source": [
    "JuniorA_teams = pd.DataFrame(JuniorA_clubs,columns=['Club'])\n",
    "JuniorA_teams['JuniorA'] = 1 \n",
    "JuniorA_teams.set_index('Club',inplace=True)\n",
    "JuniorB_teams = pd.DataFrame(JuniorB_clubs,columns=['Club'])\n",
    "JuniorB_teams['JuniorB'] = 1 \n",
    "JuniorB_teams.set_index('Club',inplace=True)\n",
    "JuniorC_teams = pd.DataFrame(JuniorC_clubs,columns=['Club'])\n",
    "JuniorC_teams['JuniorC'] = 1 \n",
    "JuniorC_teams.set_index('Club',inplace=True)"
   ]
  },
  {
   "cell_type": "code",
   "execution_count": 45,
   "metadata": {},
   "outputs": [],
   "source": [
    "locations['Senior'] = seniorteams['Senior']"
   ]
  },
  {
   "cell_type": "code",
   "execution_count": 46,
   "metadata": {},
   "outputs": [],
   "source": [
    "locations['intermediate'] = Intermediate_teams['Intermediate']\n",
    "locations['JuniorA'] = JuniorA_teams['JuniorA']\n",
    "locations['JuniorB'] = JuniorB_teams['JuniorB']\n",
    "locations['JuniorC'] = JuniorC_teams['JuniorC']"
   ]
  },
  {
   "cell_type": "code",
   "execution_count": 48,
   "metadata": {},
   "outputs": [],
   "source": [
    "HurlingClubs = locations[locations.isnull().sum(axis=1)<7].copy()"
   ]
  },
  {
   "cell_type": "code",
   "execution_count": 49,
   "metadata": {},
   "outputs": [],
   "source": [
    "def level(row):\n",
    "    if row.loc['Senior'] == 1 :\n",
    "        return 1\n",
    "    if row.loc['intermediate']==1:\n",
    "        return 2\n",
    "    if row.loc['JuniorA']==1 :\n",
    "        return 3\n",
    "    if row.loc['JuniorB'] == 1:\n",
    "        return 4\n",
    "    if row.loc['JuniorC']  == 1:\n",
    "        return 5"
   ]
  },
  {
   "cell_type": "code",
   "execution_count": 50,
   "metadata": {},
   "outputs": [],
   "source": [
    "levelclub = HurlingClubs.apply(lambda row: level(row), axis=1)\n",
    "HurlingClubs['level'] = levelclub"
   ]
  },
  {
   "cell_type": "code",
   "execution_count": 51,
   "metadata": {},
   "outputs": [],
   "source": [
    "HurlingClubs['Countytitles'] = HurlingClubs['Countytitles'].fillna(0).astype(int)"
   ]
  },
  {
   "cell_type": "code",
   "execution_count": 52,
   "metadata": {},
   "outputs": [],
   "source": [
    "Ouput  = HurlingClubs.loc[:,['Latitude','Longitude','level','Countytitles']]"
   ]
  },
  {
   "cell_type": "code",
   "execution_count": 55,
   "metadata": {},
   "outputs": [],
   "source": [
    "Ouput.to_csv('Input_data\\Scrapped\\ClareHurling.csv')"
   ]
  },
  {
   "cell_type": "markdown",
   "metadata": {},
   "source": [
    "### Clare Hurling vs football"
   ]
  },
  {
   "cell_type": "code",
   "execution_count": 56,
   "metadata": {},
   "outputs": [],
   "source": [
    "url = \"https://en.wikipedia.org/wiki/Clare_Senior_Football_Championship\"\n",
    "page = urllib.request.urlopen(url)\n",
    "soup = BeautifulSoup(page, \"lxml\")\n",
    "right_table=soup.find_all('table', class_='wikitable')\n",
    "for table in right_table:\n",
    "    ths = table.find_all('th')\n",
    "    headings = [th.text.strip() for th in ths]\n",
    "    if headings == ['Year', 'Winner', 'Opponent']:\n",
    "        break\n",
    "finals = pd.DataFrame(columns = headings)\n",
    "i=0\n",
    "for row in table.findAll('tr'):\n",
    "    cells=row.findAll('td')\n",
    "    if len(cells)==3:\n",
    "        finals.loc[i] = [th.text.strip() for th in cells]\n",
    "        i +=1\n",
    "finals['Winner'] = finals['Winner'].str.extract(\"([A-Za-z'.,Á-Úá-ú -]+)\")\n",
    "finals['Winner']=finals['Winner'].str.strip()\n",
    "finals['Opponent'] = finals['Opponent'].str.extract(\"([A-Za-z'.,Á-Úá-ú -]+)\")\n",
    "finals['Opponent'] = finals['Opponent'].str.strip()\n",
    "finals['Year'] = finals['Year'].astype(str).str[0:4].astype(int)\n",
    "finals.set_index('Year',inplace=True)"
   ]
  },
  {
   "cell_type": "code",
   "execution_count": 57,
   "metadata": {},
   "outputs": [],
   "source": [
    "countytitles19812020 = finals.loc[finals.index > 1980]['Winner'].value_counts()\n",
    "runnersup19812020 = finals.loc[finals.index > 1980]['Opponent'].value_counts()\n",
    "locations['CountyFtitles'] = countytitles19812020\n",
    "locations['RunnersupF'] = runnersup19812020 "
   ]
  },
  {
   "cell_type": "code",
   "execution_count": 58,
   "metadata": {},
   "outputs": [],
   "source": [
    "right_table\n",
    "for table in right_table:\n",
    "    ths = table.find_all('th')\n",
    "    headings = [th.text.strip() for th in ths]\n",
    "    if headings == ['Club', 'Last Title']:\n",
    "        break\n",
    "seniorteams = pd.DataFrame(columns = headings)\n",
    "i=0\n",
    "for row in table.findAll('tr'):\n",
    "    cells=row.findAll('td')\n",
    "    if len(cells)==2:\n",
    "        seniorteams.loc[i] = [th.text.strip() for th in cells]\n",
    "        i +=1"
   ]
  },
  {
   "cell_type": "code",
   "execution_count": 59,
   "metadata": {},
   "outputs": [],
   "source": [
    "wikitomap = {\"Wolfe Tones\":\"Wolfe Tones na Sionna\",\"Éire Óg\":\"Eire Og\",\"Clooney-Quin\":\"Clooney Quin\",\"St. Joseph's, Miltown Malbay\":\n",
    "            \"St. Joseph's Miltown Malbay\",\"St. Breckan's\":\"St. Breckans\",\"Kilmurry-Ibrickane\":\"Kilmurray Ibrickane\"}"
   ]
  },
  {
   "cell_type": "code",
   "execution_count": 60,
   "metadata": {},
   "outputs": [],
   "source": [
    "seniorteams['Club'] = seniorteams['Club'].str.replace(r\"\\(.*\\)\",\"\").str.strip()\n",
    "seniorteams = seniorteams.replace({\"Club\":wikitomap})\n",
    "seniorteams['Club'] = seniorteams['Club'].str.replace(r\"\\,.*\",\"\").str.strip()\n",
    "seniorteams = seniorteams.replace({\"Club\":wikitomap})"
   ]
  },
  {
   "cell_type": "code",
   "execution_count": 61,
   "metadata": {},
   "outputs": [],
   "source": [
    "seniorteams['Senior'] = 1\n",
    "seniorteams.set_index('Club',inplace=True)\n"
   ]
  },
  {
   "cell_type": "code",
   "execution_count": 62,
   "metadata": {},
   "outputs": [],
   "source": [
    "locations['SeniorFootball'] = seniorteams['Senior']"
   ]
  },
  {
   "cell_type": "code",
   "execution_count": 63,
   "metadata": {},
   "outputs": [],
   "source": [
    "SeniorFootballteams = locations[locations['SeniorFootball']==1]"
   ]
  },
  {
   "cell_type": "code",
   "execution_count": 64,
   "metadata": {},
   "outputs": [],
   "source": [
    "SeniorFootballteams = SeniorFootballteams[['Latitude','Longitude','SeniorFootball']]"
   ]
  },
  {
   "cell_type": "code",
   "execution_count": 68,
   "metadata": {},
   "outputs": [],
   "source": [
    "SeniorFootballteams.to_csv('Input_data\\Scrapped\\ClareSFteams.csv')"
   ]
  },
  {
   "cell_type": "code",
   "execution_count": 66,
   "metadata": {},
   "outputs": [],
   "source": [
    "SeniorHurlingteams = locations[locations['Senior']==1]\n",
    "SeniorHurlingteams  = SeniorHurlingteams[['Latitude','Longitude','Senior']]"
   ]
  },
  {
   "cell_type": "code",
   "execution_count": 69,
   "metadata": {},
   "outputs": [],
   "source": [
    "SeniorHurlingteams.to_csv('Input_data\\Scrapped\\ClareSHteams.csv')"
   ]
  },
  {
   "cell_type": "markdown",
   "metadata": {},
   "source": [
    "### All-Ieland wins by county"
   ]
  },
  {
   "cell_type": "code",
   "execution_count": 70,
   "metadata": {},
   "outputs": [],
   "source": [
    "url = \"https://en.wikipedia.org/wiki/All-Ireland_Senior_Hurling_Championship\"\n",
    "page = urllib.request.urlopen(url)\n",
    "soup = BeautifulSoup(page, \"lxml\")\n",
    "right_table=soup.find_all('table', class_='wikitable')\n",
    "for table in right_table:\n",
    "    ths = table.find_all('th')\n",
    "    headings = [th.text.strip() for th in ths]\n",
    "    if headings == ['','Team','Winners','Years won','Runners-up','Years Runners-up']:\n",
    "        break"
   ]
  },
  {
   "cell_type": "code",
   "execution_count": 71,
   "metadata": {},
   "outputs": [],
   "source": [
    "allirelands = pd.DataFrame(columns = headings)\n",
    "i=0\n",
    "for row in table.findAll('tr'):\n",
    "    cells=row.findAll('td')\n",
    "    if len(cells)==6:\n",
    "        allirelands.loc[i] = [th.text.strip() for th in cells]\n",
    "        i +=1\n",
    "    elif len(cells)==5:\n",
    "        allirelands.loc[i] = [i+1]+[th.text.strip() for th in cells]\n",
    "        i +=1\n",
    "    elif len(cells)==4:\n",
    "        allirelands.loc[i] = [i+1]+[th.text.strip() for th in cells]+[0]\n",
    "        i +=1"
   ]
  },
  {
   "cell_type": "code",
   "execution_count": 72,
   "metadata": {},
   "outputs": [],
   "source": [
    "allirelands = allirelands.loc[:,['Team','Winners']]"
   ]
  },
  {
   "cell_type": "code",
   "execution_count": 73,
   "metadata": {},
   "outputs": [],
   "source": [
    "allirelands = allirelands[allirelands.loc[:,'Team']!='London']"
   ]
  },
  {
   "cell_type": "code",
   "execution_count": 74,
   "metadata": {},
   "outputs": [],
   "source": [
    "allirelands['Winners'] = allirelands['Winners'].astype(int)"
   ]
  },
  {
   "cell_type": "code",
   "execution_count": 75,
   "metadata": {},
   "outputs": [],
   "source": [
    "allirelands=allirelands[allirelands['Winners']>0]"
   ]
  },
  {
   "cell_type": "code",
   "execution_count": 76,
   "metadata": {},
   "outputs": [],
   "source": [
    "allirelands =allirelands[allirelands['Team']!='Kerry'] #There only win in 1891 was by a club rather than the county team "
   ]
  },
  {
   "cell_type": "code",
   "execution_count": 79,
   "metadata": {},
   "outputs": [],
   "source": [
    "allirelands.to_csv('Input_data\\Scrapped\\HurlinAllIreland.csv')"
   ]
  },
  {
   "cell_type": "markdown",
   "metadata": {},
   "source": [
    "### Hurling Clubs in Hurling counties"
   ]
  },
  {
   "cell_type": "code",
   "execution_count": 80,
   "metadata": {},
   "outputs": [],
   "source": [
    "column_names = [\"Club\", \"Latitude\",\"Longitude\"]\n",
    "locations = pd.DataFrame(columns = column_names)"
   ]
  },
  {
   "cell_type": "code",
   "execution_count": 81,
   "metadata": {},
   "outputs": [],
   "source": [
    "i=0\n",
    "for team in allirelands['Team']:\n",
    "    url = f\"https://gaapitchlocator.net/{team}\"\n",
    "    page = urllib.request.urlopen(url)\n",
    "    soup = BeautifulSoup(page, 'html')\n",
    "    ballyea = soup.find_all('div')\n",
    "    for line in ballyea:    \n",
    "        if line['class']==['site']:\n",
    "            data =line\n",
    "    usefulinfo  = data.find_all('div')\n",
    "    for line in usefulinfo:\n",
    "        if line['class'] ==['x-main', 'full']:\n",
    "            clubs = line\n",
    "    clubs = clubs.find_all('div')\n",
    "    for line in clubs:\n",
    "        if(line['class'][0]=='lmm-geo-tags'):\n",
    "            sample = line.text\n",
    "            locations.loc[i] = [f'{team}_'+sample.split(\":\")[0],[float(j) for j in sample.split(\":\")[1].split(',')][0],[float(j) for j in sample.split(\":\")[1].split(',')][1]]\n",
    "            i +=1"
   ]
  },
  {
   "cell_type": "code",
   "execution_count": 82,
   "metadata": {},
   "outputs": [],
   "source": [
    "locations['Club'] = locations['Club'].str.replace(' GAA','').str.replace(' Hurling Club','').str.replace(r\"\\(.*\\)\",\"\").str.replace(\"\\\\\", '').str.replace('St ','St. ').str.replace('-',' ').str.replace(' GFC','').str.replace('\\'s','s').str.strip()\n",
    "locations = locations.drop_duplicates(subset=['Club'],keep='last')"
   ]
  },
  {
   "cell_type": "code",
   "execution_count": 83,
   "metadata": {},
   "outputs": [
    {
     "data": {
      "text/plain": [
       "\" right_table=soup.find_all('table', class_='wikitable')\\n    if team in ['Wexford','Cork','Dublin']:\\n        for table in right_table:\\n            ths = table.find_all('th')\\n            headings = [th.text.strip() for th in ths]\\n            if (headings[:4] == ['Year','Winners','Score','Runners-up']):\\n                break \\n        for row in table.findAll('tr'):\\n            cells=row.findAll('td')\\n            if len(cells)==7:\\n                info = np.array([th.text.strip() for th in cells])[[0,1,3]]\\n                finals.loc[i] = [info[0],f'{team}_'+info[1],f'{team}_'+info[2]]\\n                i +=1\\n    else:\\n        for table in right_table:\\n            ths = table.find_all('th')\\n            headings = [th.text.strip() for th in ths]\\n            if (headings == ['Year', 'Winner', 'Opponent'])|(headings ==['Year', 'Winner', 'Runner-Up']):\\n                break\\n        for row in table.findAll('tr'):\\n            cells=row.findAll('td')\\n            if len(cells)==3:\\n                info = np.array([th.text.strip() for th in cells])\\n                finals.loc[i] = [info[0],f'{team}_'+info[1],f'{team}_'+info[2]]\\n                i +=1\\n                \""
      ]
     },
     "execution_count": 83,
     "metadata": {},
     "output_type": "execute_result"
    }
   ],
   "source": [
    "i=0\n",
    "finals = pd.DataFrame(columns = ['Year', 'Winner', 'Opponent'])\n",
    "county = pd.DataFrame(columns = ['County'])\n",
    "for team in allirelands['Team']:\n",
    "    url = f\"https://en.wikipedia.org/wiki/{team}_Senior_Hurling_Championship\"\n",
    "    page = urllib.request.urlopen(url)\n",
    "    soup = BeautifulSoup(page, \"lxml\")\n",
    "    headings = soup.find_all(\"h2\")\n",
    "    table = None\n",
    "    for header in headings:\n",
    "        if header.get_text().lower() in {'finals listed by year[edit]','list of finals[edit]'}:\n",
    "            table =header.find_next_sibling()\n",
    "    if table==None:\n",
    "        for header in headings:\n",
    "            if header.get_text().lower() in {'roll of honour[edit]'}:\n",
    "                table =header.find_next_sibling()\n",
    "    if len(table.findAll('tr'))<10:\n",
    "        table = table.find_next_sibling()\n",
    "\n",
    "    if team in ['Wexford','Cork','Dublin']:\n",
    "        for row in table.findAll('tr'):\n",
    "            cells=row.findAll('td')\n",
    "            if len(cells)!=0:\n",
    "                info = np.array([th.text.strip() for th in cells])[[0,1,3]]\n",
    "                if info[1]!='':\n",
    "                    finals.loc[i] = [info[0],f'{team}_'+info[1],f'{team}_'+info[2]]\n",
    "                    i +=1 \n",
    "                    county.loc[i]=team\n",
    "    else:\n",
    "        for row in table.findAll('tr'):\n",
    "            cells=row.findAll('td')\n",
    "            if len(cells)==3:\n",
    "                info = np.array([th.text.strip() for th in cells])\n",
    "                if info[1]!='':\n",
    "                    finals.loc[i] = [info[0],f'{team}_'+info[1],f'{team}_'+info[2]]\n",
    "                    i +=1\n",
    "                    county.loc[i]=team\n",
    "    \n",
    "    \n",
    "    \n",
    "    \n",
    "''' right_table=soup.find_all('table', class_='wikitable')\n",
    "    if team in ['Wexford','Cork','Dublin']:\n",
    "        for table in right_table:\n",
    "            ths = table.find_all('th')\n",
    "            headings = [th.text.strip() for th in ths]\n",
    "            if (headings[:4] == ['Year','Winners','Score','Runners-up']):\n",
    "                break \n",
    "        for row in table.findAll('tr'):\n",
    "            cells=row.findAll('td')\n",
    "            if len(cells)==7:\n",
    "                info = np.array([th.text.strip() for th in cells])[[0,1,3]]\n",
    "                finals.loc[i] = [info[0],f'{team}_'+info[1],f'{team}_'+info[2]]\n",
    "                i +=1\n",
    "    else:\n",
    "        for table in right_table:\n",
    "            ths = table.find_all('th')\n",
    "            headings = [th.text.strip() for th in ths]\n",
    "            if (headings == ['Year', 'Winner', 'Opponent'])|(headings ==['Year', 'Winner', 'Runner-Up']):\n",
    "                break\n",
    "        for row in table.findAll('tr'):\n",
    "            cells=row.findAll('td')\n",
    "            if len(cells)==3:\n",
    "                info = np.array([th.text.strip() for th in cells])\n",
    "                finals.loc[i] = [info[0],f'{team}_'+info[1],f'{team}_'+info[2]]\n",
    "                i +=1\n",
    "                '''"
   ]
  },
  {
   "cell_type": "code",
   "execution_count": 84,
   "metadata": {},
   "outputs": [
    {
     "data": {
      "text/plain": [
       "Cork         134\n",
       "Galway       134\n",
       "Kilkenny     133\n",
       "Tipperary    133\n",
       "Dublin       133\n",
       "Laois        127\n",
       "Limerick     126\n",
       "Clare        125\n",
       "Offaly       124\n",
       "Wexford      119\n",
       "Waterford     86\n",
       "Name: County, dtype: int64"
      ]
     },
     "execution_count": 84,
     "metadata": {},
     "output_type": "execute_result"
    }
   ],
   "source": [
    "county['County'].value_counts()"
   ]
  },
  {
   "cell_type": "code",
   "execution_count": 85,
   "metadata": {},
   "outputs": [
    {
     "data": {
      "text/plain": [
       "0      Kilkenny\n",
       "1          Cork\n",
       "2     Tipperary\n",
       "3      Limerick\n",
       "4        Dublin\n",
       "5       Wexford\n",
       "6        Galway\n",
       "7        Offaly\n",
       "8         Clare\n",
       "9     Waterford\n",
       "11        Laois\n",
       "Name: Team, dtype: object"
      ]
     },
     "execution_count": 85,
     "metadata": {},
     "output_type": "execute_result"
    }
   ],
   "source": [
    "allirelands['Team']"
   ]
  },
  {
   "cell_type": "code",
   "execution_count": 86,
   "metadata": {},
   "outputs": [
    {
     "data": {
      "text/html": [
       "<div>\n",
       "<style scoped>\n",
       "    .dataframe tbody tr th:only-of-type {\n",
       "        vertical-align: middle;\n",
       "    }\n",
       "\n",
       "    .dataframe tbody tr th {\n",
       "        vertical-align: top;\n",
       "    }\n",
       "\n",
       "    .dataframe thead th {\n",
       "        text-align: right;\n",
       "    }\n",
       "</style>\n",
       "<table border=\"1\" class=\"dataframe\">\n",
       "  <thead>\n",
       "    <tr style=\"text-align: right;\">\n",
       "      <th></th>\n",
       "      <th>Year</th>\n",
       "      <th>Winner</th>\n",
       "      <th>Opponent</th>\n",
       "    </tr>\n",
       "  </thead>\n",
       "  <tbody>\n",
       "    <tr>\n",
       "      <th>270</th>\n",
       "      <td>2017[10]</td>\n",
       "      <td>Tipperary_Thurles Sarsfields 1-24</td>\n",
       "      <td>Tipperary_Borris-Ileigh 0-11</td>\n",
       "    </tr>\n",
       "    <tr>\n",
       "      <th>271</th>\n",
       "      <td>2016[11]</td>\n",
       "      <td>Tipperary_Thurles Sarsfields 0-27</td>\n",
       "      <td>Tipperary_Kiladangan 1-15</td>\n",
       "    </tr>\n",
       "    <tr>\n",
       "      <th>272</th>\n",
       "      <td>2015[12]</td>\n",
       "      <td>Tipperary_Thurles Sarsfields 1-18</td>\n",
       "      <td>Tipperary_Nenagh Éire Óg 3-11</td>\n",
       "    </tr>\n",
       "    <tr>\n",
       "      <th>273</th>\n",
       "      <td>2014[13]</td>\n",
       "      <td>Tipperary_Thurles Sarsfields 2-22</td>\n",
       "      <td>Tipperary_Loughmore-Castleiney 3-11</td>\n",
       "    </tr>\n",
       "    <tr>\n",
       "      <th>274</th>\n",
       "      <td>2013 [14]</td>\n",
       "      <td>Tipperary_Loughmore-Castleiney 1-17</td>\n",
       "      <td>Tipperary_Nenagh Éire Óg 1-16</td>\n",
       "    </tr>\n",
       "    <tr>\n",
       "      <th>...</th>\n",
       "      <td>...</td>\n",
       "      <td>...</td>\n",
       "      <td>...</td>\n",
       "    </tr>\n",
       "    <tr>\n",
       "      <th>361</th>\n",
       "      <td>1926</td>\n",
       "      <td>Tipperary_Moycarkey-Borris 6-04</td>\n",
       "      <td>Tipperary_Boherlahan 4-02</td>\n",
       "    </tr>\n",
       "    <tr>\n",
       "      <th>362</th>\n",
       "      <td>1925</td>\n",
       "      <td>Tipperary_Boherlahan 5-04</td>\n",
       "      <td>Tipperary_Toomevara/Moycarkey-Borris 2-03</td>\n",
       "    </tr>\n",
       "    <tr>\n",
       "      <th>363</th>\n",
       "      <td>1924</td>\n",
       "      <td>Tipperary_Boherlahan 8-03</td>\n",
       "      <td>Tipperary_Mid Selection 1-00</td>\n",
       "    </tr>\n",
       "    <tr>\n",
       "      <th>364</th>\n",
       "      <td>1923</td>\n",
       "      <td>Tipperary_Toomevara 5-04</td>\n",
       "      <td>Tipperary_Kilmoyler 3-03</td>\n",
       "    </tr>\n",
       "    <tr>\n",
       "      <th>365</th>\n",
       "      <td>1922</td>\n",
       "      <td>Tipperary_Boherlahan 5-01</td>\n",
       "      <td>Tipperary_North Selection (Toomevara) 2-03</td>\n",
       "    </tr>\n",
       "  </tbody>\n",
       "</table>\n",
       "<p>96 rows × 3 columns</p>\n",
       "</div>"
      ],
      "text/plain": [
       "          Year                               Winner  \\\n",
       "270   2017[10]    Tipperary_Thurles Sarsfields 1-24   \n",
       "271   2016[11]    Tipperary_Thurles Sarsfields 0-27   \n",
       "272   2015[12]    Tipperary_Thurles Sarsfields 1-18   \n",
       "273   2014[13]    Tipperary_Thurles Sarsfields 2-22   \n",
       "274  2013 [14]  Tipperary_Loughmore-Castleiney 1-17   \n",
       "..         ...                                  ...   \n",
       "361       1926      Tipperary_Moycarkey-Borris 6-04   \n",
       "362       1925            Tipperary_Boherlahan 5-04   \n",
       "363       1924            Tipperary_Boherlahan 8-03   \n",
       "364       1923             Tipperary_Toomevara 5-04   \n",
       "365       1922            Tipperary_Boherlahan 5-01   \n",
       "\n",
       "                                       Opponent  \n",
       "270                Tipperary_Borris-Ileigh 0-11  \n",
       "271                   Tipperary_Kiladangan 1-15  \n",
       "272               Tipperary_Nenagh Éire Óg 3-11  \n",
       "273         Tipperary_Loughmore-Castleiney 3-11  \n",
       "274               Tipperary_Nenagh Éire Óg 1-16  \n",
       "..                                          ...  \n",
       "361                   Tipperary_Boherlahan 4-02  \n",
       "362   Tipperary_Toomevara/Moycarkey-Borris 2-03  \n",
       "363                Tipperary_Mid Selection 1-00  \n",
       "364                    Tipperary_Kilmoyler 3-03  \n",
       "365  Tipperary_North Selection (Toomevara) 2-03  \n",
       "\n",
       "[96 rows x 3 columns]"
      ]
     },
     "execution_count": 86,
     "metadata": {},
     "output_type": "execute_result"
    }
   ],
   "source": [
    "finals.loc[270:365]"
   ]
  },
  {
   "cell_type": "code",
   "execution_count": 87,
   "metadata": {},
   "outputs": [
    {
     "data": {
      "text/plain": [
       "Series([], Name: Team, dtype: object)"
      ]
     },
     "execution_count": 87,
     "metadata": {},
     "output_type": "execute_result"
    }
   ],
   "source": [
    "allirelands['Team'][~allirelands['Team'].isin(county['County'])]"
   ]
  },
  {
   "cell_type": "code",
   "execution_count": 88,
   "metadata": {},
   "outputs": [],
   "source": [
    "url = f\"https://en.wikipedia.org/wiki/Waterford_Senior_Hurling_Championship\"\n",
    "page = urllib.request.urlopen(url)\n",
    "soup = BeautifulSoup(page, \"lxml\")\n",
    "headings = soup.find_all(\"h2\")\n",
    "table = None\n",
    "for header in headings:\n",
    "    if header.get_text().lower() in {'finals listed by year[edit]','list of finals[edit]'}:\n",
    "        table =header.find_next_sibling()\n",
    "if table==None:\n",
    "    for header in headings:\n",
    "        if header.get_text().lower() in {'roll of honour[edit]'}:\n",
    "            table =header.find_next_sibling()\n",
    "if len(table.findAll('tr'))<10:\n",
    "    table = table.find_next_sibling()"
   ]
  },
  {
   "cell_type": "code",
   "execution_count": 90,
   "metadata": {},
   "outputs": [
    {
     "data": {
      "text/html": [
       "<div>\n",
       "<style scoped>\n",
       "    .dataframe tbody tr th:only-of-type {\n",
       "        vertical-align: middle;\n",
       "    }\n",
       "\n",
       "    .dataframe tbody tr th {\n",
       "        vertical-align: top;\n",
       "    }\n",
       "\n",
       "    .dataframe thead th {\n",
       "        text-align: right;\n",
       "    }\n",
       "</style>\n",
       "<table border=\"1\" class=\"dataframe\">\n",
       "  <thead>\n",
       "    <tr style=\"text-align: right;\">\n",
       "      <th></th>\n",
       "      <th>Year</th>\n",
       "      <th>Winner</th>\n",
       "      <th>Opponent</th>\n",
       "    </tr>\n",
       "  </thead>\n",
       "  <tbody>\n",
       "    <tr>\n",
       "      <th>0</th>\n",
       "      <td>2020</td>\n",
       "      <td>Kilkenny_Ballyhale Shamrocks 5-19</td>\n",
       "      <td>Kilkenny_Dicksboro 1-10</td>\n",
       "    </tr>\n",
       "    <tr>\n",
       "      <th>1</th>\n",
       "      <td>2019</td>\n",
       "      <td>Kilkenny_Ballyhale Shamrocks 2-21</td>\n",
       "      <td>Kilkenny_James Stephens 1-15</td>\n",
       "    </tr>\n",
       "    <tr>\n",
       "      <th>2</th>\n",
       "      <td>2018</td>\n",
       "      <td>Kilkenny_Ballyhale Shamrocks 2-20</td>\n",
       "      <td>Kilkenny_Bennettsbridge 2-17</td>\n",
       "    </tr>\n",
       "    <tr>\n",
       "      <th>3</th>\n",
       "      <td>2017[24]</td>\n",
       "      <td>Kilkenny_Dicksboro 4-15</td>\n",
       "      <td>Kilkenny_James Stephens 4-10</td>\n",
       "    </tr>\n",
       "    <tr>\n",
       "      <th>4</th>\n",
       "      <td>2016[25]</td>\n",
       "      <td>Kilkenny_O'Loughlin Gaels 0-19</td>\n",
       "      <td>Kilkenny_Ballyhale Shamrocks 1-12</td>\n",
       "    </tr>\n",
       "    <tr>\n",
       "      <th>...</th>\n",
       "      <td>...</td>\n",
       "      <td>...</td>\n",
       "      <td>...</td>\n",
       "    </tr>\n",
       "    <tr>\n",
       "      <th>1369</th>\n",
       "      <td>1897</td>\n",
       "      <td>Laois_Harristown 0-08</td>\n",
       "      <td>Laois_Rathdowney 1-01</td>\n",
       "    </tr>\n",
       "    <tr>\n",
       "      <th>1370</th>\n",
       "      <td>1891</td>\n",
       "      <td>Laois_Clonaslee w/o</td>\n",
       "      <td>Laois_Aghaboe scr</td>\n",
       "    </tr>\n",
       "    <tr>\n",
       "      <th>1371</th>\n",
       "      <td>1890</td>\n",
       "      <td>Laois_Clonaslee 1-02</td>\n",
       "      <td>Laois_Rathdowney 1-00</td>\n",
       "    </tr>\n",
       "    <tr>\n",
       "      <th>1372</th>\n",
       "      <td>1889</td>\n",
       "      <td>Laois_Rathdowney 3-05</td>\n",
       "      <td>Laois_Skierke 0-00</td>\n",
       "    </tr>\n",
       "    <tr>\n",
       "      <th>1373</th>\n",
       "      <td>1888</td>\n",
       "      <td>Laois_Rathdowney 2-02</td>\n",
       "      <td>Laois_Knockaroo 0-01</td>\n",
       "    </tr>\n",
       "  </tbody>\n",
       "</table>\n",
       "<p>1374 rows × 3 columns</p>\n",
       "</div>"
      ],
      "text/plain": [
       "          Year                             Winner  \\\n",
       "0         2020  Kilkenny_Ballyhale Shamrocks 5-19   \n",
       "1         2019  Kilkenny_Ballyhale Shamrocks 2-21   \n",
       "2         2018  Kilkenny_Ballyhale Shamrocks 2-20   \n",
       "3     2017[24]            Kilkenny_Dicksboro 4-15   \n",
       "4     2016[25]     Kilkenny_O'Loughlin Gaels 0-19   \n",
       "...        ...                                ...   \n",
       "1369      1897              Laois_Harristown 0-08   \n",
       "1370      1891                Laois_Clonaslee w/o   \n",
       "1371      1890               Laois_Clonaslee 1-02   \n",
       "1372      1889              Laois_Rathdowney 3-05   \n",
       "1373      1888              Laois_Rathdowney 2-02   \n",
       "\n",
       "                               Opponent  \n",
       "0               Kilkenny_Dicksboro 1-10  \n",
       "1          Kilkenny_James Stephens 1-15  \n",
       "2          Kilkenny_Bennettsbridge 2-17  \n",
       "3          Kilkenny_James Stephens 4-10  \n",
       "4     Kilkenny_Ballyhale Shamrocks 1-12  \n",
       "...                                 ...  \n",
       "1369              Laois_Rathdowney 1-01  \n",
       "1370                  Laois_Aghaboe scr  \n",
       "1371              Laois_Rathdowney 1-00  \n",
       "1372                 Laois_Skierke 0-00  \n",
       "1373               Laois_Knockaroo 0-01  \n",
       "\n",
       "[1374 rows x 3 columns]"
      ]
     },
     "execution_count": 90,
     "metadata": {},
     "output_type": "execute_result"
    }
   ],
   "source": [
    "finals"
   ]
  },
  {
   "cell_type": "code",
   "execution_count": 91,
   "metadata": {},
   "outputs": [
    {
     "data": {
      "text/plain": [
       "0      Kilkenny\n",
       "1          Cork\n",
       "2     Tipperary\n",
       "3      Limerick\n",
       "4        Dublin\n",
       "5       Wexford\n",
       "6        Galway\n",
       "7        Offaly\n",
       "8         Clare\n",
       "9     Waterford\n",
       "11        Laois\n",
       "Name: Team, dtype: object"
      ]
     },
     "execution_count": 91,
     "metadata": {},
     "output_type": "execute_result"
    }
   ],
   "source": [
    "allirelands['Team']"
   ]
  },
  {
   "cell_type": "code",
   "execution_count": 92,
   "metadata": {},
   "outputs": [
    {
     "data": {
      "text/plain": [
       "Year                              2020\n",
       "Winner      Limerick_Na Piarsaigh 5-27\n",
       "Opponent            Limerick_Doon 1-12\n",
       "Name: 400, dtype: object"
      ]
     },
     "execution_count": 92,
     "metadata": {},
     "output_type": "execute_result"
    }
   ],
   "source": [
    "finals.loc[400]"
   ]
  },
  {
   "cell_type": "code",
   "execution_count": 97,
   "metadata": {},
   "outputs": [],
   "source": [
    "Tippwinners = pd.read_csv('Input_data/TippWinners.csv',encoding = \"ISO-8859-1\")\n",
    "DublinWinners = pd.read_csv('Input_data/DublinWinners.csv',encoding = \"ISO-8859-1\")\n",
    "DublinWinners = DublinWinners[['Year','Winners','Runners-up']]\n",
    "DublinWinners.columns = ['Year', 'Winner', 'Opponent']\n",
    "Tippwinners['Winner']= 'Tipperary_'+ Tippwinners['Winner'].astype(str)\n",
    "Tippwinners['Opponent']= 'Tipperary_'+ Tippwinners['Opponent'].astype(str)\n",
    "DublinWinners['Winner']= 'Dublin_'+ DublinWinners['Winner'].astype(str)\n",
    "DublinWinners['Opponent']= 'Dublin_'+ DublinWinners['Opponent'].astype(str)\n",
    "finals = finals.append(Tippwinners, ignore_index=True)\n",
    "finals = finals.append(DublinWinners, ignore_index=True)"
   ]
  },
  {
   "cell_type": "code",
   "execution_count": 106,
   "metadata": {},
   "outputs": [],
   "source": [
    "finals['Year'].replace('', '0000', inplace=True) "
   ]
  },
  {
   "cell_type": "code",
   "execution_count": 107,
   "metadata": {},
   "outputs": [],
   "source": [
    "finals['Winner'] = finals['Winner'].str.extract(\"([A-Za-z _'.,Á-Úá-ú _-]+)\")\n",
    "finals['Winner']=finals['Winner'].str.replace('St ','St. ').str.replace('-',' ').str.replace('\\'s','s').str.strip()\n",
    "finals['Opponent'] = finals['Opponent'].str.extract(\"([A-Za-z'.,Á-Úá-ú _-]+)\")\n",
    "finals['Opponent'] = finals['Opponent'].str.strip()\n",
    "finals['Year'] = finals['Year'].astype(str).str[0:4].astype(int)\n",
    "finals.set_index('Year',inplace=True)"
   ]
  },
  {
   "cell_type": "code",
   "execution_count": 108,
   "metadata": {},
   "outputs": [],
   "source": [
    "countytitles19812020 = finals.loc[finals.index > 1980]['Winner'].value_counts()\n",
    "runnersup19812020 = finals.loc[finals.index > 1980]['Opponent'].value_counts()"
   ]
  },
  {
   "cell_type": "code",
   "execution_count": 109,
   "metadata": {},
   "outputs": [
    {
     "data": {
      "text/plain": [
       "array(['Wexford_Oulart the Ballagh', 'Offaly_Birr', 'Galway_Athenry',\n",
       "       'Wexford_Rathnure', 'Galway_St. Thomass', 'Cork_Imokilly',\n",
       "       'Cork_Blackrock', 'Offaly_Kilcormac', 'Laois_Clough',\n",
       "       'Tipperary_Kiladangan', 'Tipperary_Mullinahone',\n",
       "       'Tipperary_Nenagh Éire Óg', 'Cork_Glen Rovers',\n",
       "       'Tipperary_Kilruane MacDonaghs', 'Clare_Wolfe Tones',\n",
       "       'Laois_Borris in Ossory', 'Kilkenny_Young Irelands',\n",
       "       'Clare_Éire Óg, Ennis', 'Cork_Avondhu', 'Cork_Carbery',\n",
       "       'Wexford_St. Annes', 'Wexford_Naomh Éanna'], dtype=object)"
      ]
     },
     "execution_count": 109,
     "metadata": {},
     "output_type": "execute_result"
    }
   ],
   "source": [
    "countytitles19812020.index.values[[i not in locations['Club'].values for i in countytitles19812020.index.values]]"
   ]
  },
  {
   "cell_type": "code",
   "execution_count": 110,
   "metadata": {},
   "outputs": [],
   "source": [
    "WikitoMap = {'Wexford_Oulart the Ballagh':'Wexford_Oulart The Ballagh', \"Offaly_Birr\":\"Offaly_St. Brendans Park\",\n",
    "            \"Wexford_Rathnure\":'Wexford_Rathnure St. Annes',\"Galway_Athenry\":'Galway_St. Marys Athenry',\n",
    "            \"Galway_St. Thomass\":\"Galway_St. Thomas\",\"Cork_Imokilly\":'Cork_Midleton',\"Offaly_Kilcormac\":'Offaly_Kilcormac Killoughey',\n",
    "            \"Laois_Clough\":\"Laois_Clough Ballacolla\",\n",
    "            \"Kilkenny_Young Irelands\":'Kilkenny_Young Irelands Gowran', \"Clare_Éire Óg, Ennis\":\"Clare_Eire Og\", \"Clare_Wolfe Tones\":'Clare_Wolfe Tones na Sionna',\n",
    "            \"Waterford_Passage\":'Waterford_Passage East',\"Tipperary_Kilruane MacDonaghs\":'Tipperary_Kilruane McDonaghs',\n",
    "            \"Tipperary_Nenagh Éire Óg\":'Tipperary_Eire Og Nenagh',\"Tipperary_Kiladangan\":'Tipperary_Kildangan','Cork_Carbery':'Cork_Carbery Rangers',\n",
    "            \"Cork_Avondhu\":'Cork_Charleville Rovers','Wexford_Naomh Éanna':'Wexford_Naomh Eanna Gorey',\n",
    "            \"Tipperary_Mullinahone\":\"Tipperary_Mullinahone CJ Kickhams\",\"Laois_Borris in Ossory\":'Laois_Borris In Ossory',\n",
    "            'Cork_Blackrock':'Cork_Blackrock National','Cork_Glen Rovers':'Cork_Glen Rovers Hurling'\n",
    "            }"
   ]
  },
  {
   "cell_type": "code",
   "execution_count": 111,
   "metadata": {},
   "outputs": [],
   "source": [
    "countytitles19812020 = countytitles19812020.rename(index=WikitoMap)\n",
    "runnersup19812020 = runnersup19812020.rename(index=WikitoMap)"
   ]
  },
  {
   "cell_type": "code",
   "execution_count": 112,
   "metadata": {},
   "outputs": [],
   "source": [
    "locations.set_index('Club',inplace=True)"
   ]
  },
  {
   "cell_type": "code",
   "execution_count": 113,
   "metadata": {},
   "outputs": [],
   "source": [
    "countytitles19812020 =  countytitles19812020.groupby(countytitles19812020.index).first().copy()"
   ]
  },
  {
   "cell_type": "code",
   "execution_count": 114,
   "metadata": {},
   "outputs": [],
   "source": [
    "locations['Countytitles'] = countytitles19812020"
   ]
  },
  {
   "cell_type": "code",
   "execution_count": 115,
   "metadata": {},
   "outputs": [],
   "source": [
    "CountyWinners = locations[np.isnan(locations['Countytitles'])==False]"
   ]
  },
  {
   "cell_type": "code",
   "execution_count": 118,
   "metadata": {},
   "outputs": [],
   "source": [
    "CountyWinners.to_csv('Input_data\\Scrapped\\CountyWinners.csv')"
   ]
  }
 ],
 "metadata": {
  "kernelspec": {
   "display_name": "Python 3",
   "language": "python",
   "name": "python3"
  },
  "language_info": {
   "codemirror_mode": {
    "name": "ipython",
    "version": 3
   },
   "file_extension": ".py",
   "mimetype": "text/x-python",
   "name": "python",
   "nbconvert_exporter": "python",
   "pygments_lexer": "ipython3",
   "version": "3.7.7"
  }
 },
 "nbformat": 4,
 "nbformat_minor": 4
}
